{
  "nbformat": 4,
  "nbformat_minor": 0,
  "metadata": {
    "colab": {
      "provenance": []
    },
    "kernelspec": {
      "name": "python3",
      "display_name": "Python 3"
    },
    "language_info": {
      "name": "python"
    }
  },
  "cells": [
    {
      "cell_type": "code",
      "execution_count": 1,
      "metadata": {
        "colab": {
          "base_uri": "https://localhost:8080/"
        },
        "id": "7qHv79PisogS",
        "outputId": "17c0e695-3330-4db1-9cd9-a2d96882eb91"
      },
      "outputs": [
        {
          "output_type": "stream",
          "name": "stdout",
          "text": [
            "\u001b[2K   \u001b[90m━━━━━━━━━━━━━━━━━━━━━━━━━━━━━━━━━━━━━━━━\u001b[0m \u001b[32m16.4/16.4 MB\u001b[0m \u001b[31m23.4 MB/s\u001b[0m eta \u001b[36m0:00:00\u001b[0m\n",
            "\u001b[?25h"
          ]
        }
      ],
      "source": [
        "#!pip install pulp numpy --quiet\n",
        "\n",
        "import numpy as np\n",
        "import pulp\n"
      ]
    },
    {
      "cell_type": "code",
      "source": [
        "class MovingAverageForecaster:\n",
        "    \"\"\"\n",
        "    Simple k‑period moving‑average forecaster (scratch implementation).\n",
        "    \"\"\"\n",
        "\n",
        "    def __init__(self, k: int = 3):\n",
        "        if k < 1:\n",
        "            raise ValueError(\"Window k must be ≥1.\")\n",
        "        self.k = k\n",
        "        self._history = None          # type: np.ndarray | None\n",
        "        self._latest_ma = None        # type: float | None\n",
        "\n",
        "    def fit(self, series):\n",
        "        \"\"\"\n",
        "        Store the series and compute the latest moving average.\n",
        "        Returns the latest MA value.\n",
        "        \"\"\"\n",
        "        y = np.asarray(series, dtype=float)\n",
        "        if y.ndim != 1 or y.size < self.k:\n",
        "            raise ValueError(\"Series must contain at least k observations.\")\n",
        "        self._history = y\n",
        "        self._latest_ma = y[-self.k:].mean()\n",
        "        return float(self._latest_ma)\n",
        "\n",
        "    def forecast(self, steps: int = 1):\n",
        "        \"\"\"Return *steps* copies of the latest moving average.\"\"\"\n",
        "        if self._latest_ma is None:\n",
        "            raise RuntimeError(\"Call .fit() first.\")\n",
        "        return [self._latest_ma] * steps\n"
      ],
      "metadata": {
        "id": "n5wz9esAsqvw"
      },
      "execution_count": 2,
      "outputs": []
    },
    {
      "cell_type": "code",
      "source": [
        "class TransportationOptimizer:\n",
        "    \"\"\"\n",
        "    Min‑cost transportation linear program:\n",
        "    Min  Σ c_ij x_ij\n",
        "    s.t. Σ_j x_ij ≤ supply_i      for each source i\n",
        "         Σ_i x_ij = demand_j      for each destination j\n",
        "         x_ij ≥ 0\n",
        "    \"\"\"\n",
        "\n",
        "    def __init__(self, supply, demand, unit_cost, solver: str | None = None):\n",
        "        self.S = list(supply.keys())\n",
        "        self.D = list(demand.keys())\n",
        "        self.supply = supply\n",
        "        self.demand = demand\n",
        "        self.cost = unit_cost\n",
        "        self.solver_name = solver\n",
        "        self._prob = None           # type: pulp.LpProblem | None\n",
        "        self._x = None              # decision‑var dict\n",
        "        self._status = None         # \"Optimal\", \"Infeasible\", …\n",
        "\n",
        "    # --------------------------------------------\n",
        "    def _build_model(self):\n",
        "        prob = pulp.LpProblem(\"Transportation\", pulp.LpMinimize)\n",
        "        x = pulp.LpVariable.dicts(\"ship\", (self.S, self.D), lowBound=0)\n",
        "\n",
        "        # Objective\n",
        "        prob += pulp.lpSum(self.cost[i, j] * x[i][j] for i in self.S for j in self.D)\n",
        "\n",
        "        # Supply constraints\n",
        "        for i in self.S:\n",
        "            prob += pulp.lpSum(x[i][j] for j in self.D) <= self.supply[i], f\"Supply_{i}\"\n",
        "\n",
        "        # Demand constraints\n",
        "        for j in self.D:\n",
        "            prob += pulp.lpSum(x[i][j] for i in self.S) == self.demand[j], f\"Demand_{j}\"\n",
        "\n",
        "        self._prob, self._x = prob, x\n",
        "\n",
        "    # --------------------------------------------\n",
        "    def solve(self, msg: bool = False):\n",
        "        if self._prob is None:\n",
        "            self._build_model()\n",
        "        solver = (\n",
        "            pulp.getSolver(self.solver_name)\n",
        "            if self.solver_name\n",
        "            else pulp.PULP_CBC_CMD(msg=msg)\n",
        "        )\n",
        "        self._prob.solve(solver)\n",
        "        self._status = pulp.LpStatus[self._prob.status]\n",
        "        return self._status\n",
        "\n",
        "    # --------------------------------------------\n",
        "    def total_cost(self):\n",
        "        if self._status != \"Optimal\":\n",
        "            raise ValueError(\"Model not optimal – no objective value.\")\n",
        "        return pulp.value(self._prob.objective)\n",
        "\n",
        "    def shipment_plan(self):\n",
        "        if self._status != \"Optimal\":\n",
        "            raise ValueError(\"Model not optimal – no shipments.\")\n",
        "        return {\n",
        "            (i, j): pulp.value(self._x[i][j])\n",
        "            for i in self.S\n",
        "            for j in self.D\n",
        "            if pulp.value(self._x[i][j]) > 1e-6\n",
        "        }\n"
      ],
      "metadata": {
        "id": "8cJ02tFIssWL"
      },
      "execution_count": 3,
      "outputs": []
    },
    {
      "cell_type": "code",
      "source": [
        "# ---- Forecasting example ----\n",
        "hist_demand = [105, 98, 102, 100, 107, 103, 99]\n",
        "ma = MovingAverageForecaster(k=3)\n",
        "latest_ma = ma.fit(hist_demand)\n",
        "print(f\"Latest 3‑period moving average: {latest_ma:.2f}\")\n",
        "print(\"Forecast for next 2 periods:\", ma.forecast(2))\n",
        "\n",
        "# ---- Transportation LP example ----\n",
        "supply  = {\"PlantA\": 120, \"PlantB\": 150}\n",
        "demand  = {\"North\": 80, \"South\": 90, \"East\": 75, \"West\": 25}\n",
        "costs   = {(\"PlantA\",\"North\"):4, (\"PlantA\",\"South\"):6, (\"PlantA\",\"East\"):9, (\"PlantA\",\"West\"):7,\n",
        "           (\"PlantB\",\"North\"):5, (\"PlantB\",\"South\"):4, (\"PlantB\",\"East\"):7, (\"PlantB\",\"West\"):3}\n",
        "\n",
        "opt = TransportationOptimizer(supply, demand, costs)\n",
        "print(\"LP status:\", opt.solve())\n",
        "print(\"Minimum cost:\", opt.total_cost())\n",
        "print(\"Shipments:\")\n",
        "for (src, dst), qty in opt.shipment_plan().items():\n",
        "    print(f\"  {src} → {dst} : {qty}\")\n"
      ],
      "metadata": {
        "colab": {
          "base_uri": "https://localhost:8080/"
        },
        "id": "aB5hnduDssQ6",
        "outputId": "6b481f80-0a67-4094-95af-d799f6561b75"
      },
      "execution_count": 4,
      "outputs": [
        {
          "output_type": "stream",
          "name": "stdout",
          "text": [
            "Latest 3‑period moving average: 103.00\n",
            "Forecast for next 2 periods: [np.float64(103.0), np.float64(103.0)]\n",
            "LP status: Optimal\n",
            "Minimum cost: 1360.0\n",
            "Shipments:\n",
            "  PlantA → North : 80.0\n",
            "  PlantA → East : 40.0\n",
            "  PlantB → South : 90.0\n",
            "  PlantB → East : 35.0\n",
            "  PlantB → West : 25.0\n"
          ]
        }
      ]
    },
    {
      "cell_type": "code",
      "source": [
        "# Example\n",
        "supply  = {\"Plant1\": 500, \"Plant2\": 650, \"Plant3\": 400}\n",
        "demand  = {\"ZoneA\": 350, \"ZoneB\": 420, \"ZoneC\": 380, \"ZoneD\": 400}\n",
        "\n",
        "#generate unit costs randomly for every (plant, zone) pair\n",
        "rng = np.random.default_rng(42)\n",
        "costs = {(i, j): rng.integers(3, 10) for i in supply for j in demand}\n",
        "\n",
        "opt2 = TransportationOptimizer(supply, demand, costs)\n",
        "opt2.solve()\n",
        "print(\"Total cost:\", opt2.total_cost())\n",
        "print(\"First 10 shipments:\", list(opt2.shipment_plan().items())[:10])\n"
      ],
      "metadata": {
        "colab": {
          "base_uri": "https://localhost:8080/"
        },
        "id": "Sxbs8o8_ssKf",
        "outputId": "4afbca39-586e-4281-ff9e-6d965398770e"
      },
      "execution_count": 5,
      "outputs": [
        {
          "output_type": "stream",
          "name": "stdout",
          "text": [
            "Total cost: 6220.0\n",
            "First 10 shipments: [(('Plant1', 'ZoneA'), 350.0), (('Plant1', 'ZoneB'), 20.0), (('Plant1', 'ZoneD'), 130.0), (('Plant2', 'ZoneC'), 380.0), (('Plant2', 'ZoneD'), 270.0), (('Plant3', 'ZoneB'), 400.0)]\n"
          ]
        }
      ]
    },
    {
      "cell_type": "code",
      "source": [
        "# Forecasting – uses a 6‑month window (k=6) on 2 years of monthly data, then predicts the next 3 months.\n",
        "months = [\n",
        "    \"2023‑01\",\"2023‑02\",\"2023‑03\",\"2023‑04\",\"2023‑05\",\"2023‑06\",\n",
        "    \"2023‑07\",\"2023‑08\",\"2023‑09\",\"2023‑10\",\"2023‑11\",\"2023‑12\",\n",
        "    \"2024‑01\",\"2024‑02\",\"2024‑03\",\"2024‑04\",\"2024‑05\",\"2024‑06\",\n",
        "    \"2024‑07\",\"2024‑08\",\"2024‑09\",\"2024‑10\",\"2024‑11\",\"2024‑12\",\n",
        "]\n",
        "# synthetic monthly demand (units)\n",
        "demand_hist = [\n",
        "    990, 1005, 1012, 998, 1020, 1033,\n",
        "    1041, 1050, 1066, 1052, 1070, 1082,\n",
        "    1095, 1102, 1116, 1123, 1_37, 1149,\n",
        "    1150, 1175, 1185, 1197, 1206, 1220\n",
        "]\n",
        "\n",
        "ma6 = MovingAverageForecaster(k=6)\n",
        "latest = ma6.fit(demand_hist)\n",
        "print(\"=== 6‑period Moving Average Forecast ===\")\n",
        "print(f\"  Latest MA (Dec‑24): {latest:.1f} units\")\n",
        "print(f\"  Forecast for Jan‑25 to Mar‑25:\", ma6.forecast(3))\n",
        "print()\n",
        "\n",
        "# Optimisation – scales the LP up to 40 decision variables (5 plants × 8 markets) plus 13 constraints and solves with CBC.\n",
        "plants  = {f\"Plant{i}\": cap for i, cap in zip(\"ABCDE\", [600, 750, 500, 650, 550])}\n",
        "markets = {\n",
        "    \"North\": 320, \"South\": 280, \"East\": 300, \"West\": 260,\n",
        "    \"Central\": 310, \"N‑East\": 230, \"N‑West\": 240, \"S‑Central\": 230\n",
        "}\n",
        "\n",
        "# Build a cost dict with reproducible random integers [3, 12]\n",
        "rng = np.random.default_rng(2025)\n",
        "unit_cost = {(p, m): int(rng.integers(3, 13)) for p in plants for m in markets}\n",
        "\n",
        "opt_big = TransportationOptimizer(plants, markets, unit_cost)\n",
        "status_big = opt_big.solve()\n",
        "print(\"=== Transportation LP (5 × 8) ===\")\n",
        "print(\"  Solver status :\", status_big)\n",
        "print(\"  Minimum cost  :\", opt_big.total_cost())\n",
        "print(\"  shipment decisions:\")\n",
        "for (src, dst), qty in list(opt_big.shipment_plan().items())[:15]:\n",
        "    print(f\"    {src:6} → {dst:9} : {qty}\")\n"
      ],
      "metadata": {
        "colab": {
          "base_uri": "https://localhost:8080/"
        },
        "id": "z3k10YURvNtd",
        "outputId": "b7b5ab0c-5d3f-4d4a-953c-e59cc08a1e2c"
      },
      "execution_count": 6,
      "outputs": [
        {
          "output_type": "stream",
          "name": "stdout",
          "text": [
            "=== 6‑period Moving Average Forecast ===\n",
            "  Latest MA (Dec‑24): 1188.8 units\n",
            "  Forecast for Jan‑25 to Mar‑25: [np.float64(1188.8333333333333), np.float64(1188.8333333333333), np.float64(1188.8333333333333)]\n",
            "\n",
            "=== Transportation LP (5 × 8) ===\n",
            "  Solver status : Optimal\n",
            "  Minimum cost  : 9620.0\n",
            "  shipment decisions:\n",
            "    PlantA → North     : 10.0\n",
            "    PlantB → East      : 260.0\n",
            "    PlantB → West      : 260.0\n",
            "    PlantB → N‑East    : 230.0\n",
            "    PlantC → Central   : 310.0\n",
            "    PlantC → S‑Central : 190.0\n",
            "    PlantD → South     : 280.0\n",
            "    PlantD → East      : 40.0\n",
            "    PlantD → S‑Central : 40.0\n",
            "    PlantE → North     : 310.0\n",
            "    PlantE → N‑West    : 240.0\n"
          ]
        }
      ]
    }
  ]
}